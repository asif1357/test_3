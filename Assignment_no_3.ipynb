{
 "cells": [
  {
   "cell_type": "markdown",
   "id": "ab8b6580",
   "metadata": {},
   "source": [
    "# Assignment no. 3"
   ]
  },
  {
   "cell_type": "markdown",
   "id": "524408dc",
   "metadata": {},
   "source": [
    "1. Funtions allow us to to reuse certain opration again and again by writing only once.This reduses code size and increases        readability\n",
    "2. Code in the function runs when it is called\n",
    "3. def fun_name() :\n",
    "       body of function\n",
    "       return(optional)\n",
    "4. Function is just a group of statements while function call is moves the flow of execution of program to function\n",
    "5. Four types of scopes, local, enclosing, global, and built-in\n",
    "6. When the execution of the function terminates (returns),the local variables are destroyed.\n",
    "7. A return statement is used to end the execution of the function call and “returns” the result.Keyword return cannot be used    in an expression\n",
    "8. If you don't explicitly return anything, the value will be None\n",
    "9. Normally, when you create a variable inside a function, that variable is local, and can only be used inside that function.\n",
    "   To create a global variable inside a function, you can use the global keyword.\n",
    "10. Data type of None is none itself\n",
    "11. It simply means import module named areallyourpetsnamederic from another Python file or module\n",
    "12. spam.bacon()\n",
    "13. exception handling can save our program from crashing\n",
    "14. The try block is used to check some code for errors i.e the code inside the try block will execute when there is no error       in the program. Whereas the code inside the except block will execute whenever the program encounters some error"
   ]
  },
  {
   "cell_type": "code",
   "execution_count": null,
   "id": "64f14661",
   "metadata": {},
   "outputs": [],
   "source": []
  }
 ],
 "metadata": {
  "kernelspec": {
   "display_name": "Python 3 (ipykernel)",
   "language": "python",
   "name": "python3"
  },
  "language_info": {
   "codemirror_mode": {
    "name": "ipython",
    "version": 3
   },
   "file_extension": ".py",
   "mimetype": "text/x-python",
   "name": "python",
   "nbconvert_exporter": "python",
   "pygments_lexer": "ipython3",
   "version": "3.9.12"
  }
 },
 "nbformat": 4,
 "nbformat_minor": 5
}
